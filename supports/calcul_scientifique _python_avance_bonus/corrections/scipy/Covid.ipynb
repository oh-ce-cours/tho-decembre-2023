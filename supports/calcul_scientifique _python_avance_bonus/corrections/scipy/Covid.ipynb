{
 "cells": [
  {
   "cell_type": "code",
   "execution_count": null,
   "metadata": {},
   "outputs": [],
   "source": [
    "import country_converter as coco\n",
    "import pandas as pd\n",
    "import plotly.express as px\n",
    "import numpy as np\n",
    "import matplotlib.pyplot as plt\n",
    "\n",
    "cc = coco.CountryConverter()"
   ]
  },
  {
   "cell_type": "markdown",
   "metadata": {},
   "source": [
    "# Téléchargement des données mondiales de covid"
   ]
  },
  {
   "cell_type": "code",
   "execution_count": null,
   "metadata": {},
   "outputs": [],
   "source": [
    "URL_DATASET = r'https://raw.githubusercontent.com/datasets/covid-19/master/data/countries-aggregated.csv'\n",
    "df1 = pd.read_csv(URL_DATASET)"
   ]
  },
  {
   "cell_type": "code",
   "execution_count": null,
   "metadata": {},
   "outputs": [],
   "source": [
    "df1.head()"
   ]
  },
  {
   "cell_type": "markdown",
   "metadata": {},
   "source": [
    "# Coversion des noms de pays vers leur code ISO3 (3 lettres)"
   ]
  },
  {
   "cell_type": "code",
   "execution_count": null,
   "metadata": {},
   "outputs": [],
   "source": [
    "iso3_codes = coco.convert(names=list(df1.Country.unique()), to='ISO3')\n",
    "df2 = pd.DataFrame({\"Country\": df1.Country.unique(), \"iso3\": iso3_codes})\n",
    "df1_country_codes = df1.merge(df2, on=\"Country\")\n",
    "\n",
    "df1_country_codes.head()"
   ]
  },
  {
   "cell_type": "markdown",
   "metadata": {},
   "source": [
    "# Prétraitement \n",
    "\n",
    "Il faut effectuer des moyennes glissantes / resampler les données sur une semaine et par pays pour avoir des informations pertinentes. On en profite pour rajouter les informations de code ISO3 des pays. "
   ]
  },
  {
   "cell_type": "code",
   "execution_count": null,
   "metadata": {},
   "outputs": [],
   "source": [
    "df_resampled = []\n",
    "\n",
    "for country, group in df1.groupby(\"Country\"):\n",
    "    current = group.set_index(pd.to_datetime(group.Date)).rolling(\"7d\").mean()\n",
    "    current[\"Country\"] = country\n",
    "    current[\"iso3\"] = coco.convert(names=[country], to='ISO3')\n",
    "    df_resampled.append(current)\n",
    "\n",
    "df_resampled = pd.concat(df_resampled)"
   ]
  },
  {
   "cell_type": "markdown",
   "metadata": {},
   "source": [
    "# Réalisation de graphiques temporels"
   ]
  },
  {
   "cell_type": "code",
   "execution_count": null,
   "metadata": {},
   "outputs": [],
   "source": [
    "ax = df_resampled[df_resampled.Country == \"France\"].Confirmed.plot()\n",
    "ax.set_title(\"Nombre de cas cumulés en France\");\n",
    "plt.savefig(\"covid_cas_cumules.png\")"
   ]
  },
  {
   "cell_type": "code",
   "execution_count": null,
   "metadata": {},
   "outputs": [],
   "source": [
    "ax = df_resampled[df_resampled.Country == \"France\"].Confirmed.diff().plot()\n",
    "ax.set_title(\"Nombre de cas par jours en France\");\n",
    "plt.savefig(\"covid_cas_journaliers.png\")"
   ]
  },
  {
   "cell_type": "markdown",
   "metadata": {},
   "source": [
    "# Réalisation d'une carte en mode *cloropleth*\n",
    "\n",
    "Pour générer une carte avec l'intéreur des pays coloré selon le nombre de contaminations on utilis plotly et mapbox."
   ]
  },
  {
   "cell_type": "code",
   "execution_count": null,
   "metadata": {},
   "outputs": [],
   "source": [
    "fig = px.choropleth(data_frame = df_resampled,\n",
    "                locations= \"iso3\",\n",
    "                color= \"Confirmed\",  # value in column 'Confirmed' determines color\n",
    "                hover_name= \"Country\",\n",
    "                color_continuous_scale= 'RdYlGn',  #  color scale red, yellow green\n",
    "                animation_frame=df_resampled.index.astype(str))\n",
    "fig.show()"
   ]
  },
  {
   "cell_type": "markdown",
   "metadata": {},
   "source": [
    "# Réalisation de scatter map\n",
    "\n",
    "Pour afficher des ronds sur les pays il faut connaitre la position des barycentres des pays. \n",
    "\n",
    "Le fichier CSV possède des problèmes de formatage, il faut donc supprimer les guillemets présents en trop. Et modifier le type des colonnes."
   ]
  },
  {
   "cell_type": "code",
   "execution_count": null,
   "metadata": {},
   "outputs": [],
   "source": [
    "#countries_lat_lon = pd.read_csv(\"http://worldmap.harvard.edu/download/wfs/34645/csv?outputFormat=csv&service=WFS&request=GetFeature&format_options=charset%3AUTF-8&typename=geonode%3Acountry_centroids_az8&version=1.0.0\")\n",
    "countries_lat_lon = pd.read_csv(\"https://gist.githubusercontent.com/tadast/8827699/raw/f5cac3d42d16b78348610fc4ec301e9234f82821/countries_codes_and_coordinates.csv\", header=0)"
   ]
  },
  {
   "cell_type": "code",
   "execution_count": null,
   "metadata": {},
   "outputs": [],
   "source": [
    "countries_lat_lon = countries_lat_lon.apply(lambda x: x.str.replace('\"', '').str.strip())\n",
    "countries_lat_lon[\"Latitude (average)\"] = countries_lat_lon[\"Latitude (average)\"].astype(np.float)\n",
    "countries_lat_lon[\"Longitude (average)\"] = countries_lat_lon[\"Longitude (average)\"].astype(np.float)\n",
    "\n",
    "countries_lat_lon.info()"
   ]
  },
  {
   "cell_type": "markdown",
   "metadata": {},
   "source": [
    "Maintenant, nous pouvons merger les deux datasets entre eux pour récupérer les informations qui nous intéressent (les cas de covid + latitude / longitude)"
   ]
  },
  {
   "cell_type": "code",
   "execution_count": null,
   "metadata": {},
   "outputs": [],
   "source": [
    "resampled_lat_lon = df_resampled.\\\n",
    "    reset_index().\\\n",
    "    merge(\n",
    "    countries_lat_lon[[\"Alpha-3 code\", \"Latitude (average)\", \"Longitude (average)\"]], \n",
    "    left_on=\"iso3\", \n",
    "    right_on=\"Alpha-3 code\", \n",
    "    how='right').\\\n",
    "    set_index(\"Date\").\\\n",
    "    dropna()\n",
    "\n",
    "resampled_lat_lon.head()"
   ]
  },
  {
   "cell_type": "code",
   "execution_count": null,
   "metadata": {},
   "outputs": [],
   "source": [
    "fig = px.scatter_mapbox(resampled_lat_lon,\n",
    "                lat=\"Latitude (average)\",  \n",
    "                lon=\"Longitude (average)\",\n",
    "                color=\"Confirmed\", size=\"Confirmed\",\n",
    "                color_continuous_scale=px.colors.sequential.Aggrnyl, \n",
    "                size_max=70, zoom=0.75, hover_name='Country', \n",
    "                hover_data = ['Confirmed', 'Deaths', 'Recovered'], \n",
    "                title = 'Visualizing spread of COVID from 22/1/2020', \n",
    "                animation_frame=resampled_lat_lon.index.astype(str)\n",
    "\n",
    ")\n",
    "fig.update_mapboxes(style='open-street-map')\n",
    "fig.show()"
   ]
  },
  {
   "cell_type": "code",
   "execution_count": null,
   "metadata": {},
   "outputs": [],
   "source": []
  }
 ],
 "metadata": {
  "kernelspec": {
   "display_name": "Python 3",
   "language": "python",
   "name": "python3"
  },
  "language_info": {
   "codemirror_mode": {
    "name": "ipython",
    "version": 3
   },
   "file_extension": ".py",
   "mimetype": "text/x-python",
   "name": "python",
   "nbconvert_exporter": "python",
   "pygments_lexer": "ipython3",
   "version": "3.6.12"
  }
 },
 "nbformat": 4,
 "nbformat_minor": 2
}
